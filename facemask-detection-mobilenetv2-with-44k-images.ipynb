{
 "cells": [
  {
   "cell_type": "code",
   "execution_count": 3,
   "metadata": {
    "execution": {
     "iopub.execute_input": "2021-08-01T18:57:21.737294Z",
     "iopub.status.busy": "2021-08-01T18:57:21.736914Z",
     "iopub.status.idle": "2021-08-01T18:57:22.014341Z",
     "shell.execute_reply": "2021-08-01T18:57:22.013536Z",
     "shell.execute_reply.started": "2021-08-01T18:57:21.737262Z"
    }
   },
   "outputs": [],
   "source": [
    "# import the necessary packages\n",
    "from tensorflow.keras.preprocessing.image import ImageDataGenerator\n",
    "from tensorflow.keras.applications import MobileNetV2\n",
    "from tensorflow.keras.layers import AveragePooling2D\n",
    "from tensorflow.keras.layers import Dropout\n",
    "from tensorflow.keras.layers import Flatten\n",
    "from tensorflow.keras.layers import Dense\n",
    "from tensorflow.keras.layers import Input\n",
    "from tensorflow.keras.models import Model\n",
    "from tensorflow.keras.optimizers import Adam\n",
    "from tensorflow.keras.optimizers import RMSprop\n",
    "from tensorflow.keras.applications.mobilenet_v2 import preprocess_input\n",
    "from tensorflow.keras.preprocessing.image import img_to_array\n",
    "from tensorflow.keras.preprocessing.image import load_img\n",
    "from tensorflow.keras.utils import to_categorical\n",
    "from sklearn.preprocessing import LabelBinarizer\n",
    "from sklearn.model_selection import train_test_split\n",
    "from sklearn.metrics import classification_report\n",
    "from imutils import paths\n",
    "import matplotlib.pyplot as plt\n",
    "import numpy as np\n",
    "import os\n",
    "from tensorflow.keras.utils import plot_model\n",
    "from keras import backend as K\n",
    "from keras.callbacks import ModelCheckpoint\n",
    "from tensorflow.keras.models import load_model\n",
    "import sklearn.metrics as metrics\n",
    "import seaborn as sns"
   ]
  },
  {
   "cell_type": "code",
   "execution_count": 2,
   "metadata": {
    "execution": {
     "iopub.execute_input": "2021-08-01T18:57:07.872334Z",
     "iopub.status.busy": "2021-08-01T18:57:07.872013Z",
     "iopub.status.idle": "2021-08-01T18:57:17.305724Z",
     "shell.execute_reply": "2021-08-01T18:57:17.304885Z",
     "shell.execute_reply.started": "2021-08-01T18:57:07.872305Z"
    }
   },
   "outputs": [
    {
     "name": "stdout",
     "output_type": "stream",
     "text": [
      "Collecting seaborn\n",
      "  Downloading seaborn-0.12.2-py3-none-any.whl (293 kB)\n",
      "     -------------------------------------- 293.3/293.3 kB 9.1 MB/s eta 0:00:00\n",
      "Requirement already satisfied: pandas>=0.25 in c:\\users\\rajat\\anaconda3\\envs\\tensorflow_env\\lib\\site-packages (from seaborn) (2.0.1)\n",
      "Requirement already satisfied: matplotlib!=3.6.1,>=3.1 in c:\\users\\rajat\\anaconda3\\envs\\tensorflow_env\\lib\\site-packages (from seaborn) (3.7.1)\n",
      "Requirement already satisfied: numpy!=1.24.0,>=1.17 in c:\\users\\rajat\\anaconda3\\envs\\tensorflow_env\\lib\\site-packages (from seaborn) (1.22.3)\n",
      "Requirement already satisfied: kiwisolver>=1.0.1 in c:\\users\\rajat\\anaconda3\\envs\\tensorflow_env\\lib\\site-packages (from matplotlib!=3.6.1,>=3.1->seaborn) (1.4.4)\n",
      "Requirement already satisfied: contourpy>=1.0.1 in c:\\users\\rajat\\anaconda3\\envs\\tensorflow_env\\lib\\site-packages (from matplotlib!=3.6.1,>=3.1->seaborn) (1.0.7)\n",
      "Requirement already satisfied: pyparsing>=2.3.1 in c:\\users\\rajat\\anaconda3\\envs\\tensorflow_env\\lib\\site-packages (from matplotlib!=3.6.1,>=3.1->seaborn) (3.0.9)\n",
      "Requirement already satisfied: fonttools>=4.22.0 in c:\\users\\rajat\\anaconda3\\envs\\tensorflow_env\\lib\\site-packages (from matplotlib!=3.6.1,>=3.1->seaborn) (4.39.4)\n",
      "Requirement already satisfied: pillow>=6.2.0 in c:\\users\\rajat\\anaconda3\\envs\\tensorflow_env\\lib\\site-packages (from matplotlib!=3.6.1,>=3.1->seaborn) (9.5.0)\n",
      "Requirement already satisfied: python-dateutil>=2.7 in c:\\users\\rajat\\anaconda3\\envs\\tensorflow_env\\lib\\site-packages (from matplotlib!=3.6.1,>=3.1->seaborn) (2.8.2)\n",
      "Requirement already satisfied: packaging>=20.0 in c:\\users\\rajat\\anaconda3\\envs\\tensorflow_env\\lib\\site-packages (from matplotlib!=3.6.1,>=3.1->seaborn) (22.0)\n",
      "Requirement already satisfied: cycler>=0.10 in c:\\users\\rajat\\anaconda3\\envs\\tensorflow_env\\lib\\site-packages (from matplotlib!=3.6.1,>=3.1->seaborn) (0.11.0)\n",
      "Requirement already satisfied: pytz>=2020.1 in c:\\users\\rajat\\anaconda3\\envs\\tensorflow_env\\lib\\site-packages (from pandas>=0.25->seaborn) (2022.7)\n",
      "Requirement already satisfied: tzdata>=2022.1 in c:\\users\\rajat\\anaconda3\\envs\\tensorflow_env\\lib\\site-packages (from pandas>=0.25->seaborn) (2023.3)\n",
      "Requirement already satisfied: six>=1.5 in c:\\users\\rajat\\anaconda3\\envs\\tensorflow_env\\lib\\site-packages (from python-dateutil>=2.7->matplotlib!=3.6.1,>=3.1->seaborn) (1.16.0)\n",
      "Installing collected packages: seaborn\n",
      "Successfully installed seaborn-0.12.2\n",
      "Note: you may need to restart the kernel to use updated packages.\n"
     ]
    }
   ],
   "source": [
    "pip install seaborn"
   ]
  },
  {
   "cell_type": "code",
   "execution_count": 69,
   "metadata": {
    "execution": {
     "iopub.execute_input": "2021-08-01T18:49:16.487203Z",
     "iopub.status.busy": "2021-08-01T18:49:16.48682Z",
     "iopub.status.idle": "2021-08-01T18:49:17.287836Z",
     "shell.execute_reply": "2021-08-01T18:49:17.287138Z",
     "shell.execute_reply.started": "2021-08-01T18:49:16.48717Z"
    }
   },
   "outputs": [
    {
     "data": {
      "text/plain": [
       "array([['Aug_0_1572.png', 'Aug_0_230.png', 'Aug_0_2802.png', ...,\n",
       "        'Aug_333_487.png', 'Aug_333_5276.png', 'Aug_333_5329.png'],\n",
       "       ['1.0', '1.0', '1.0', ..., '0.0', '0.0', '0.0'],\n",
       "       ['0.0', '0.0', '0.0', ..., '1.0', '1.0', '1.0']], dtype='<U32')"
      ]
     },
     "execution_count": 69,
     "metadata": {},
     "output_type": "execute_result"
    }
   ],
   "source": [
    "#masked images\n",
    "images=os.listdir(\"facedata/1\")\n",
    "masked=np.ones( len(os.listdir(\"facedata/1\")))\n",
    "not_masked=np.zeros(len(os.listdir(\"facedata/1\")))\n",
    "\n",
    "\n",
    "images=np.append(images,os.listdir(\"facedata/0\"))\n",
    "masked=np.append(masked,np.zeros(len(os.listdir(\"facedata/0\"))))\n",
    "not_masked=np.append(not_masked,np.ones( len(os.listdir(\"facedata/0\"))))\n",
    "\n",
    "\n",
    "\n",
    "np.array([images,masked,not_masked])"
   ]
  },
  {
   "cell_type": "code",
   "execution_count": 70,
   "metadata": {
    "execution": {
     "iopub.execute_input": "2021-08-01T18:49:25.504275Z",
     "iopub.status.busy": "2021-08-01T18:49:25.503897Z",
     "iopub.status.idle": "2021-08-01T18:49:25.521217Z",
     "shell.execute_reply": "2021-08-01T18:49:25.520197Z",
     "shell.execute_reply.started": "2021-08-01T18:49:25.504245Z"
    }
   },
   "outputs": [],
   "source": [
    "import pandas as pd\n",
    "\n",
    "data={'image':images, 'masked':masked,'not_masked':not_masked}\n",
    "\n",
    "df = pd.DataFrame(data, columns = ['image', 'masked','not_masked'])"
   ]
  },
  {
   "cell_type": "code",
   "execution_count": 71,
   "metadata": {
    "execution": {
     "iopub.execute_input": "2021-08-01T18:50:22.214451Z",
     "iopub.status.busy": "2021-08-01T18:50:22.214126Z",
     "iopub.status.idle": "2021-08-01T18:50:22.275227Z",
     "shell.execute_reply": "2021-08-01T18:50:22.274315Z",
     "shell.execute_reply.started": "2021-08-01T18:50:22.214421Z"
    }
   },
   "outputs": [
    {
     "name": "stderr",
     "output_type": "stream",
     "text": [
      "C:\\Users\\rajat\\AppData\\Local\\Temp\\ipykernel_20152\\2543263489.py:1: SettingWithCopyWarning: \n",
      "A value is trying to be set on a copy of a slice from a DataFrame\n",
      "\n",
      "See the caveats in the documentation: https://pandas.pydata.org/pandas-docs/stable/user_guide/indexing.html#returning-a-view-versus-a-copy\n",
      "  df['image'].iloc[:len(os.listdir(\"facedata/1\"))]=\"facedata/0/\"+ df['image'].iloc[:len(os.listdir(\"facedata/1\"))]\n"
     ]
    }
   ],
   "source": [
    "df['image'].iloc[:len(os.listdir(\"facedata/1\"))]=\"facedata/0/\"+ df['image'].iloc[:len(os.listdir(\"facedata/1\"))]"
   ]
  },
  {
   "cell_type": "code",
   "execution_count": 73,
   "metadata": {
    "execution": {
     "iopub.execute_input": "2021-08-01T18:51:33.064926Z",
     "iopub.status.busy": "2021-08-01T18:51:33.064601Z",
     "iopub.status.idle": "2021-08-01T18:51:33.097336Z",
     "shell.execute_reply": "2021-08-01T18:51:33.096415Z",
     "shell.execute_reply.started": "2021-08-01T18:51:33.064895Z"
    }
   },
   "outputs": [
    {
     "name": "stderr",
     "output_type": "stream",
     "text": [
      "C:\\Users\\rajat\\AppData\\Local\\Temp\\ipykernel_20152\\1774016047.py:1: SettingWithCopyWarning: \n",
      "A value is trying to be set on a copy of a slice from a DataFrame\n",
      "\n",
      "See the caveats in the documentation: https://pandas.pydata.org/pandas-docs/stable/user_guide/indexing.html#returning-a-view-versus-a-copy\n",
      "  df['image'].iloc[len(os.listdir(\"facedata/1\")):]=\"facedata/1\"+df['image'].iloc[len(os.listdir(\"facedata/1\")):]\n"
     ]
    }
   ],
   "source": [
    "df['image'].iloc[len(os.listdir(\"facedata/1\")):]=\"facedata/1\"+df['image'].iloc[len(os.listdir(\"facedata/1\")):]"
   ]
  },
  {
   "cell_type": "code",
   "execution_count": 74,
   "metadata": {
    "execution": {
     "iopub.execute_input": "2021-08-01T18:51:38.682853Z",
     "iopub.status.busy": "2021-08-01T18:51:38.682524Z",
     "iopub.status.idle": "2021-08-01T18:51:38.733508Z",
     "shell.execute_reply": "2021-08-01T18:51:38.732746Z",
     "shell.execute_reply.started": "2021-08-01T18:51:38.682821Z"
    }
   },
   "outputs": [],
   "source": [
    "from keras.preprocessing.image import ImageDataGenerator\n",
    "from tensorflow.keras.utils import array_to_img,img_to_array,load_img,save_img"
   ]
  },
  {
   "cell_type": "code",
   "execution_count": 75,
   "metadata": {
    "execution": {
     "iopub.execute_input": "2021-08-01T18:51:43.681771Z",
     "iopub.status.busy": "2021-08-01T18:51:43.681407Z",
     "iopub.status.idle": "2021-08-01T18:51:43.689196Z",
     "shell.execute_reply": "2021-08-01T18:51:43.688178Z",
     "shell.execute_reply.started": "2021-08-01T18:51:43.681728Z"
    }
   },
   "outputs": [
    {
     "data": {
      "text/plain": [
       "'facedata/0/Aug_0_4001.png'"
      ]
     },
     "execution_count": 75,
     "metadata": {},
     "output_type": "execute_result"
    }
   ],
   "source": [
    "df['image'].iloc[4]"
   ]
  },
  {
   "cell_type": "code",
   "execution_count": 76,
   "metadata": {
    "execution": {
     "iopub.execute_input": "2021-08-01T18:51:45.729706Z",
     "iopub.status.busy": "2021-08-01T18:51:45.729332Z",
     "iopub.status.idle": "2021-08-01T18:51:45.74185Z",
     "shell.execute_reply": "2021-08-01T18:51:45.741054Z",
     "shell.execute_reply.started": "2021-08-01T18:51:45.72967Z"
    }
   },
   "outputs": [],
   "source": [
    "from sklearn.utils import shuffle\n",
    "df = shuffle(df)"
   ]
  },
  {
   "cell_type": "code",
   "execution_count": 77,
   "metadata": {
    "execution": {
     "iopub.execute_input": "2021-08-01T18:51:50.40154Z",
     "iopub.status.busy": "2021-08-01T18:51:50.401186Z",
     "iopub.status.idle": "2021-08-01T18:51:50.420685Z",
     "shell.execute_reply": "2021-08-01T18:51:50.419818Z",
     "shell.execute_reply.started": "2021-08-01T18:51:50.401507Z"
    }
   },
   "outputs": [
    {
     "data": {
      "text/html": [
       "<div>\n",
       "<style scoped>\n",
       "    .dataframe tbody tr th:only-of-type {\n",
       "        vertical-align: middle;\n",
       "    }\n",
       "\n",
       "    .dataframe tbody tr th {\n",
       "        vertical-align: top;\n",
       "    }\n",
       "\n",
       "    .dataframe thead th {\n",
       "        text-align: right;\n",
       "    }\n",
       "</style>\n",
       "<table border=\"1\" class=\"dataframe\">\n",
       "  <thead>\n",
       "    <tr style=\"text-align: right;\">\n",
       "      <th></th>\n",
       "      <th>image</th>\n",
       "      <th>masked</th>\n",
       "      <th>not_masked</th>\n",
       "    </tr>\n",
       "  </thead>\n",
       "  <tbody>\n",
       "    <tr>\n",
       "      <th>997</th>\n",
       "      <td>facedata/1dataset/1Aug_326_8121.png</td>\n",
       "      <td>0.0</td>\n",
       "      <td>1.0</td>\n",
       "    </tr>\n",
       "    <tr>\n",
       "      <th>797</th>\n",
       "      <td>facedata/1dataset/1Aug_315_5702.png</td>\n",
       "      <td>0.0</td>\n",
       "      <td>1.0</td>\n",
       "    </tr>\n",
       "    <tr>\n",
       "      <th>54</th>\n",
       "      <td>facedata/0/Aug_17_2074.png</td>\n",
       "      <td>1.0</td>\n",
       "      <td>0.0</td>\n",
       "    </tr>\n",
       "    <tr>\n",
       "      <th>1046</th>\n",
       "      <td>facedata/1dataset/1Aug_329_3982.png</td>\n",
       "      <td>0.0</td>\n",
       "      <td>1.0</td>\n",
       "    </tr>\n",
       "    <tr>\n",
       "      <th>407</th>\n",
       "      <td>facedata/0/Aug_66_7125.png</td>\n",
       "      <td>1.0</td>\n",
       "      <td>0.0</td>\n",
       "    </tr>\n",
       "  </tbody>\n",
       "</table>\n",
       "</div>"
      ],
      "text/plain": [
       "                                    image  masked  not_masked\n",
       "997   facedata/1dataset/1Aug_326_8121.png     0.0         1.0\n",
       "797   facedata/1dataset/1Aug_315_5702.png     0.0         1.0\n",
       "54             facedata/0/Aug_17_2074.png     1.0         0.0\n",
       "1046  facedata/1dataset/1Aug_329_3982.png     0.0         1.0\n",
       "407            facedata/0/Aug_66_7125.png     1.0         0.0"
      ]
     },
     "execution_count": 77,
     "metadata": {},
     "output_type": "execute_result"
    }
   ],
   "source": [
    "df.tail()"
   ]
  },
  {
   "cell_type": "code",
   "execution_count": 78,
   "metadata": {
    "execution": {
     "iopub.execute_input": "2021-08-01T18:51:55.697312Z",
     "iopub.status.busy": "2021-08-01T18:51:55.696917Z",
     "iopub.status.idle": "2021-08-01T18:51:55.703149Z",
     "shell.execute_reply": "2021-08-01T18:51:55.70202Z",
     "shell.execute_reply.started": "2021-08-01T18:51:55.697281Z"
    }
   },
   "outputs": [
    {
     "data": {
      "text/plain": [
       "1120"
      ]
     },
     "execution_count": 78,
     "metadata": {},
     "output_type": "execute_result"
    }
   ],
   "source": [
    "len(df)"
   ]
  },
  {
   "cell_type": "code",
   "execution_count": 79,
   "metadata": {
    "execution": {
     "iopub.execute_input": "2021-08-01T18:51:57.316101Z",
     "iopub.status.busy": "2021-08-01T18:51:57.315729Z",
     "iopub.status.idle": "2021-08-01T18:51:57.323774Z",
     "shell.execute_reply": "2021-08-01T18:51:57.32265Z",
     "shell.execute_reply.started": "2021-08-01T18:51:57.316061Z"
    }
   },
   "outputs": [
    {
     "data": {
      "text/plain": [
       "(1120, 3)"
      ]
     },
     "execution_count": 79,
     "metadata": {},
     "output_type": "execute_result"
    }
   ],
   "source": [
    "df.shape"
   ]
  },
  {
   "cell_type": "code",
   "execution_count": 80,
   "metadata": {
    "execution": {
     "iopub.execute_input": "2021-08-01T18:52:03.245869Z",
     "iopub.status.busy": "2021-08-01T18:52:03.245547Z",
     "iopub.status.idle": "2021-08-01T18:52:03.251001Z",
     "shell.execute_reply": "2021-08-01T18:52:03.24991Z",
     "shell.execute_reply.started": "2021-08-01T18:52:03.245837Z"
    }
   },
   "outputs": [],
   "source": [
    "train=df.iloc[:int(len(df) *0.70)]\n",
    "test_img=df.iloc[int(len(df) *0.70):int(len(df) *0.90)]\n",
    "val=df.iloc[int(len(df) *0.90):]"
   ]
  },
  {
   "cell_type": "code",
   "execution_count": 81,
   "metadata": {
    "execution": {
     "iopub.execute_input": "2021-08-01T18:52:05.328873Z",
     "iopub.status.busy": "2021-08-01T18:52:05.328554Z",
     "iopub.status.idle": "2021-08-01T18:53:51.753583Z",
     "shell.execute_reply": "2021-08-01T18:53:51.752653Z",
     "shell.execute_reply.started": "2021-08-01T18:52:05.328842Z"
    }
   },
   "outputs": [
    {
     "name": "stdout",
     "output_type": "stream",
     "text": [
      "Found 0 validated image filenames.\n",
      "Found 0 validated image filenames.\n",
      "Found 0 validated image filenames.\n"
     ]
    },
    {
     "name": "stderr",
     "output_type": "stream",
     "text": [
      "C:\\Users\\rajat\\anaconda3\\envs\\tensorflow_env\\lib\\site-packages\\keras\\preprocessing\\image.py:1139: UserWarning: Found 784 invalid image filename(s) in x_col=\"image\". These filename(s) will be ignored.\n",
      "  warnings.warn(\n",
      "C:\\Users\\rajat\\anaconda3\\envs\\tensorflow_env\\lib\\site-packages\\keras\\preprocessing\\image.py:1139: UserWarning: Found 112 invalid image filename(s) in x_col=\"image\". These filename(s) will be ignored.\n",
      "  warnings.warn(\n",
      "C:\\Users\\rajat\\anaconda3\\envs\\tensorflow_env\\lib\\site-packages\\keras\\preprocessing\\image.py:1139: UserWarning: Found 224 invalid image filename(s) in x_col=\"image\". These filename(s) will be ignored.\n",
      "  warnings.warn(\n"
     ]
    }
   ],
   "source": [
    "import keras\n",
    "train_datagen = keras.preprocessing.image.ImageDataGenerator(rescale = 1./255,\n",
    "                                                             rotation_range=20,\n",
    "                                                             zoom_range=0.15,\n",
    "                                                             width_shift_range=0.2,\n",
    "                                                             height_shift_range=0.2,\n",
    "                                                             shear_range=0.15,\n",
    "                                                             horizontal_flip=True,\n",
    "                                                             fill_mode=\"nearest\")\n",
    "\n",
    "train_generator = train_datagen.flow_from_dataframe(train,\n",
    "                                                    x_col='image',\n",
    "                                                    y_col=['masked', 'not_masked'],\n",
    "                                                    target_size = (224,224), \n",
    "                                                    class_mode = 'raw',\n",
    "                                                    batch_size = 8\n",
    "                                                    \n",
    "                                                   )\n",
    "\n",
    "val_generator = train_datagen.flow_from_dataframe(val,\n",
    "                                                  x_col='image',\n",
    "                                                  y_col=['masked', 'not_masked'],\n",
    "                                                  target_size = (224,224),\n",
    "                                                  class_mode = 'raw',\n",
    "                                                  batch_size = 4\n",
    "                                                 \n",
    "                                                  )\n",
    "\n",
    "test_datagen = keras.preprocessing.image.ImageDataGenerator(rescale = 1./255)\n",
    "\n",
    "test_generator = test_datagen.flow_from_dataframe(test_img,\n",
    "                                                  x_col='image',\n",
    "                                                  y_col=['masked', 'not_masked'],\n",
    "                                                  target_size = (224,224),\n",
    "                                                  class_mode = 'raw',\n",
    "                                                  batch_size = 1\n",
    "                                              \n",
    "                                                 )"
   ]
  },
  {
   "cell_type": "code",
   "execution_count": 62,
   "metadata": {
    "execution": {
     "iopub.execute_input": "2021-08-01T18:55:04.097686Z",
     "iopub.status.busy": "2021-08-01T18:55:04.09721Z",
     "iopub.status.idle": "2021-08-01T18:55:04.102845Z",
     "shell.execute_reply": "2021-08-01T18:55:04.101942Z",
     "shell.execute_reply.started": "2021-08-01T18:55:04.097642Z"
    }
   },
   "outputs": [],
   "source": [
    "# initialize the initial learning rate, number of epochs to train for,\n",
    "# and batch size\n",
    "INIT_LR = 1e-4\n",
    "EPOCHS = 2\n",
    "BS = 32"
   ]
  },
  {
   "cell_type": "code",
   "execution_count": 63,
   "metadata": {
    "execution": {
     "iopub.execute_input": "2021-08-01T18:57:55.937376Z",
     "iopub.status.busy": "2021-08-01T18:57:55.93705Z",
     "iopub.status.idle": "2021-08-01T18:57:59.717469Z",
     "shell.execute_reply": "2021-08-01T18:57:59.716729Z",
     "shell.execute_reply.started": "2021-08-01T18:57:55.937344Z"
    }
   },
   "outputs": [
    {
     "name": "stdout",
     "output_type": "stream",
     "text": [
      "WARNING:tensorflow:`input_shape` is undefined or non-square, or `rows` is not in [96, 128, 160, 192, 224]. Weights for input shape (224, 224) will be loaded as the default.\n"
     ]
    }
   ],
   "source": [
    "#load the MobileNetV2 network, ensuring the head FC layer sets are\n",
    "# left off\n",
    "baseModel = MobileNetV2(weights=\"imagenet\", include_top=False,\n",
    "\tinput_tensor=Input(shape=(224, 224, 3)))"
   ]
  },
  {
   "cell_type": "code",
   "execution_count": 64,
   "metadata": {
    "execution": {
     "iopub.execute_input": "2021-08-01T18:58:03.015934Z",
     "iopub.status.busy": "2021-08-01T18:58:03.015558Z",
     "iopub.status.idle": "2021-08-01T18:58:03.047844Z",
     "shell.execute_reply": "2021-08-01T18:58:03.047066Z",
     "shell.execute_reply.started": "2021-08-01T18:58:03.015898Z"
    }
   },
   "outputs": [],
   "source": [
    "# construct the head of the model that will be placed on top of the\n",
    "# the base model\n",
    "headModel = baseModel.output\n",
    "headModel = AveragePooling2D(pool_size=(7, 7))(headModel)\n",
    "headModel = Flatten(name=\"flatten\")(headModel)\n",
    "headModel = Dense(128, activation=\"relu\")(headModel)\n",
    "headModel = Dropout(0.5)(headModel)\n",
    "headModel = Dense(2, activation=\"softmax\")(headModel)"
   ]
  },
  {
   "cell_type": "code",
   "execution_count": 65,
   "metadata": {
    "execution": {
     "iopub.execute_input": "2021-08-01T18:58:32.642006Z",
     "iopub.status.busy": "2021-08-01T18:58:32.641621Z",
     "iopub.status.idle": "2021-08-01T18:58:32.662636Z",
     "shell.execute_reply": "2021-08-01T18:58:32.661863Z",
     "shell.execute_reply.started": "2021-08-01T18:58:32.64197Z"
    }
   },
   "outputs": [],
   "source": [
    "# place the head FC model on top of the base model (this will become\n",
    "# the actual model we will train)\n",
    "model = Model(inputs=baseModel.input, outputs=headModel)"
   ]
  },
  {
   "cell_type": "code",
   "execution_count": 66,
   "metadata": {
    "execution": {
     "iopub.execute_input": "2021-08-01T18:58:42.930456Z",
     "iopub.status.busy": "2021-08-01T18:58:42.930128Z",
     "iopub.status.idle": "2021-08-01T18:58:42.938719Z",
     "shell.execute_reply": "2021-08-01T18:58:42.937783Z",
     "shell.execute_reply.started": "2021-08-01T18:58:42.930424Z"
    }
   },
   "outputs": [],
   "source": [
    "# loop over all layers in the base model and freeze them so they will\n",
    "# *not* be updated during the first training process\n",
    "for layer in baseModel.layers:\n",
    "\tlayer.trainable = False"
   ]
  },
  {
   "cell_type": "code",
   "execution_count": 67,
   "metadata": {
    "execution": {
     "iopub.execute_input": "2021-08-01T18:59:03.232133Z",
     "iopub.status.busy": "2021-08-01T18:59:03.231772Z",
     "iopub.status.idle": "2021-08-01T18:59:03.252169Z",
     "shell.execute_reply": "2021-08-01T18:59:03.250408Z",
     "shell.execute_reply.started": "2021-08-01T18:59:03.2321Z"
    }
   },
   "outputs": [
    {
     "name": "stdout",
     "output_type": "stream",
     "text": [
      "[INFO] compiling model...\n"
     ]
    },
    {
     "name": "stderr",
     "output_type": "stream",
     "text": [
      "C:\\Users\\rajat\\anaconda3\\envs\\tensorflow_env\\lib\\site-packages\\keras\\optimizers\\optimizer_v2\\adam.py:114: UserWarning: The `lr` argument is deprecated, use `learning_rate` instead.\n",
      "  super().__init__(name, **kwargs)\n"
     ]
    }
   ],
   "source": [
    "# compile our model\n",
    "print(\"[INFO] compiling model...\")\n",
    "opt = Adam(lr=INIT_LR, decay=INIT_LR / EPOCHS)\n",
    "model.compile(loss=\"binary_crossentropy\", optimizer=opt,\n",
    "\tmetrics=[\"accuracy\"])"
   ]
  },
  {
   "cell_type": "code",
   "execution_count": 68,
   "metadata": {
    "execution": {
     "iopub.execute_input": "2021-08-01T19:00:11.931607Z",
     "iopub.status.busy": "2021-08-01T19:00:11.931272Z",
     "iopub.status.idle": "2021-08-01T19:45:57.224661Z",
     "shell.execute_reply": "2021-08-01T19:45:57.223776Z",
     "shell.execute_reply.started": "2021-08-01T19:00:11.931575Z"
    }
   },
   "outputs": [
    {
     "name": "stdout",
     "output_type": "stream",
     "text": [
      "[INFO] training head...\n",
      "Epoch 1/5\n",
      "21/21 [==============================] - 8s 189ms/step - loss: 0.5275 - accuracy: 0.7888 - val_loss: 0.0998 - val_accuracy: 1.0000\n",
      "Epoch 2/5\n",
      "21/21 [==============================] - 3s 133ms/step - loss: 0.0676 - accuracy: 1.0000 - val_loss: 0.0173 - val_accuracy: 1.0000\n",
      "Epoch 3/5\n",
      "21/21 [==============================] - 3s 133ms/step - loss: 0.0200 - accuracy: 1.0000 - val_loss: 0.0170 - val_accuracy: 1.0000\n",
      "Epoch 4/5\n",
      "21/21 [==============================] - 3s 133ms/step - loss: 0.0202 - accuracy: 1.0000 - val_loss: 0.0054 - val_accuracy: 1.0000\n",
      "Epoch 5/5\n",
      "21/21 [==============================] - 3s 131ms/step - loss: 0.0139 - accuracy: 1.0000 - val_loss: 0.0072 - val_accuracy: 1.0000\n"
     ]
    }
   ],
   "source": [
    "# train the head of the network\n",
    "print(\"[INFO] training head...\")\n",
    "H = model.fit(\n",
    "\t            train_generator,epochs=5,\n",
    "              steps_per_epoch=train_generator.n// train_generator.batch_size\n",
    "              ,validation_data=val_generator,\n",
    "              validation_steps=val_generator.n // val_generator.batch_size)"
   ]
  },
  {
   "cell_type": "code",
   "execution_count": 27,
   "metadata": {
    "execution": {
     "iopub.execute_input": "2021-08-01T19:46:13.717156Z",
     "iopub.status.busy": "2021-08-01T19:46:13.716783Z",
     "iopub.status.idle": "2021-08-01T19:48:04.628095Z",
     "shell.execute_reply": "2021-08-01T19:48:04.62612Z",
     "shell.execute_reply.started": "2021-08-01T19:46:13.717124Z"
    }
   },
   "outputs": [
    {
     "name": "stdout",
     "output_type": "stream",
     "text": [
      "48/48 - 2s - 2s/epoch - 41ms/step\n",
      "              precision    recall  f1-score   support\n",
      "\n",
      "           0       1.00      1.00      1.00        48\n",
      "\n",
      "    accuracy                           1.00        48\n",
      "   macro avg       1.00      1.00      1.00        48\n",
      "weighted avg       1.00      1.00      1.00        48\n",
      "\n"
     ]
    }
   ],
   "source": [
    "y=np.concatenate([test_generator.next()[1] for i in range(test_generator.n)])\n",
    "true_labels=np.argmax(y, axis=-1)\n",
    "prediction= model.predict(test_generator, verbose=2)\n",
    "prediction=np.argmax(prediction, axis=-1)\n",
    "print(classification_report(true_labels,prediction))"
   ]
  },
  {
   "cell_type": "code",
   "execution_count": 28,
   "metadata": {
    "execution": {
     "iopub.execute_input": "2021-08-01T19:48:54.282669Z",
     "iopub.status.busy": "2021-08-01T19:48:54.2823Z",
     "iopub.status.idle": "2021-08-01T19:48:54.678947Z",
     "shell.execute_reply": "2021-08-01T19:48:54.678018Z",
     "shell.execute_reply.started": "2021-08-01T19:48:54.282637Z"
    }
   },
   "outputs": [
    {
     "name": "stdout",
     "output_type": "stream",
     "text": [
      "[INFO] saving mask detector model...\n"
     ]
    }
   ],
   "source": [
    "# serialize the model to disk\n",
    "print(\"[INFO] saving mask detector model...\")\n",
    "\n",
    "model.save(\"mask_detector.model_44k_train_mobileNetv2.h5\")"
   ]
  },
  {
   "cell_type": "code",
   "execution_count": 29,
   "metadata": {
    "execution": {
     "iopub.execute_input": "2021-08-01T19:49:00.598531Z",
     "iopub.status.busy": "2021-08-01T19:49:00.598208Z",
     "iopub.status.idle": "2021-08-01T19:49:00.752147Z",
     "shell.execute_reply": "2021-08-01T19:49:00.750357Z",
     "shell.execute_reply.started": "2021-08-01T19:49:00.5985Z"
    }
   },
   "outputs": [
    {
     "ename": "ValueError",
     "evalue": "x and y must have same first dimension, but have shapes (2,) and (5,)",
     "output_type": "error",
     "traceback": [
      "\u001b[1;31m---------------------------------------------------------------------------\u001b[0m",
      "\u001b[1;31mValueError\u001b[0m                                Traceback (most recent call last)",
      "Cell \u001b[1;32mIn[29], line 5\u001b[0m\n\u001b[0;32m      3\u001b[0m plt\u001b[38;5;241m.\u001b[39mstyle\u001b[38;5;241m.\u001b[39muse(\u001b[38;5;124m\"\u001b[39m\u001b[38;5;124mggplot\u001b[39m\u001b[38;5;124m\"\u001b[39m)\n\u001b[0;32m      4\u001b[0m plt\u001b[38;5;241m.\u001b[39mfigure()\n\u001b[1;32m----> 5\u001b[0m \u001b[43mplt\u001b[49m\u001b[38;5;241;43m.\u001b[39;49m\u001b[43mplot\u001b[49m\u001b[43m(\u001b[49m\u001b[43mnp\u001b[49m\u001b[38;5;241;43m.\u001b[39;49m\u001b[43marange\u001b[49m\u001b[43m(\u001b[49m\u001b[38;5;241;43m0\u001b[39;49m\u001b[43m,\u001b[49m\u001b[43m \u001b[49m\u001b[43mN\u001b[49m\u001b[43m)\u001b[49m\u001b[43m,\u001b[49m\u001b[43m \u001b[49m\u001b[43mH\u001b[49m\u001b[38;5;241;43m.\u001b[39;49m\u001b[43mhistory\u001b[49m\u001b[43m[\u001b[49m\u001b[38;5;124;43m\"\u001b[39;49m\u001b[38;5;124;43mloss\u001b[39;49m\u001b[38;5;124;43m\"\u001b[39;49m\u001b[43m]\u001b[49m\u001b[43m,\u001b[49m\u001b[43m \u001b[49m\u001b[43mlabel\u001b[49m\u001b[38;5;241;43m=\u001b[39;49m\u001b[38;5;124;43m\"\u001b[39;49m\u001b[38;5;124;43mtrain_loss\u001b[39;49m\u001b[38;5;124;43m\"\u001b[39;49m\u001b[43m)\u001b[49m\n\u001b[0;32m      6\u001b[0m plt\u001b[38;5;241m.\u001b[39mplot(np\u001b[38;5;241m.\u001b[39marange(\u001b[38;5;241m0\u001b[39m, N), H\u001b[38;5;241m.\u001b[39mhistory[\u001b[38;5;124m\"\u001b[39m\u001b[38;5;124mval_loss\u001b[39m\u001b[38;5;124m\"\u001b[39m], label\u001b[38;5;241m=\u001b[39m\u001b[38;5;124m\"\u001b[39m\u001b[38;5;124mval_loss\u001b[39m\u001b[38;5;124m\"\u001b[39m)\n\u001b[0;32m      7\u001b[0m plt\u001b[38;5;241m.\u001b[39mplot(np\u001b[38;5;241m.\u001b[39marange(\u001b[38;5;241m0\u001b[39m, N), H\u001b[38;5;241m.\u001b[39mhistory[\u001b[38;5;124m\"\u001b[39m\u001b[38;5;124maccuracy\u001b[39m\u001b[38;5;124m\"\u001b[39m], label\u001b[38;5;241m=\u001b[39m\u001b[38;5;124m\"\u001b[39m\u001b[38;5;124mtrain_acc\u001b[39m\u001b[38;5;124m\"\u001b[39m)\n",
      "File \u001b[1;32m~\\anaconda3\\envs\\tensorflow_env\\lib\\site-packages\\matplotlib\\pyplot.py:2812\u001b[0m, in \u001b[0;36mplot\u001b[1;34m(scalex, scaley, data, *args, **kwargs)\u001b[0m\n\u001b[0;32m   2810\u001b[0m \u001b[38;5;129m@_copy_docstring_and_deprecators\u001b[39m(Axes\u001b[38;5;241m.\u001b[39mplot)\n\u001b[0;32m   2811\u001b[0m \u001b[38;5;28;01mdef\u001b[39;00m \u001b[38;5;21mplot\u001b[39m(\u001b[38;5;241m*\u001b[39margs, scalex\u001b[38;5;241m=\u001b[39m\u001b[38;5;28;01mTrue\u001b[39;00m, scaley\u001b[38;5;241m=\u001b[39m\u001b[38;5;28;01mTrue\u001b[39;00m, data\u001b[38;5;241m=\u001b[39m\u001b[38;5;28;01mNone\u001b[39;00m, \u001b[38;5;241m*\u001b[39m\u001b[38;5;241m*\u001b[39mkwargs):\n\u001b[1;32m-> 2812\u001b[0m     \u001b[38;5;28;01mreturn\u001b[39;00m gca()\u001b[38;5;241m.\u001b[39mplot(\n\u001b[0;32m   2813\u001b[0m         \u001b[38;5;241m*\u001b[39margs, scalex\u001b[38;5;241m=\u001b[39mscalex, scaley\u001b[38;5;241m=\u001b[39mscaley,\n\u001b[0;32m   2814\u001b[0m         \u001b[38;5;241m*\u001b[39m\u001b[38;5;241m*\u001b[39m({\u001b[38;5;124m\"\u001b[39m\u001b[38;5;124mdata\u001b[39m\u001b[38;5;124m\"\u001b[39m: data} \u001b[38;5;28;01mif\u001b[39;00m data \u001b[38;5;129;01mis\u001b[39;00m \u001b[38;5;129;01mnot\u001b[39;00m \u001b[38;5;28;01mNone\u001b[39;00m \u001b[38;5;28;01melse\u001b[39;00m {}), \u001b[38;5;241m*\u001b[39m\u001b[38;5;241m*\u001b[39mkwargs)\n",
      "File \u001b[1;32m~\\anaconda3\\envs\\tensorflow_env\\lib\\site-packages\\matplotlib\\axes\\_axes.py:1688\u001b[0m, in \u001b[0;36mAxes.plot\u001b[1;34m(self, scalex, scaley, data, *args, **kwargs)\u001b[0m\n\u001b[0;32m   1445\u001b[0m \u001b[38;5;124;03m\"\"\"\u001b[39;00m\n\u001b[0;32m   1446\u001b[0m \u001b[38;5;124;03mPlot y versus x as lines and/or markers.\u001b[39;00m\n\u001b[0;32m   1447\u001b[0m \n\u001b[1;32m   (...)\u001b[0m\n\u001b[0;32m   1685\u001b[0m \u001b[38;5;124;03m(``'green'``) or hex strings (``'#008000'``).\u001b[39;00m\n\u001b[0;32m   1686\u001b[0m \u001b[38;5;124;03m\"\"\"\u001b[39;00m\n\u001b[0;32m   1687\u001b[0m kwargs \u001b[38;5;241m=\u001b[39m cbook\u001b[38;5;241m.\u001b[39mnormalize_kwargs(kwargs, mlines\u001b[38;5;241m.\u001b[39mLine2D)\n\u001b[1;32m-> 1688\u001b[0m lines \u001b[38;5;241m=\u001b[39m [\u001b[38;5;241m*\u001b[39m\u001b[38;5;28mself\u001b[39m\u001b[38;5;241m.\u001b[39m_get_lines(\u001b[38;5;241m*\u001b[39margs, data\u001b[38;5;241m=\u001b[39mdata, \u001b[38;5;241m*\u001b[39m\u001b[38;5;241m*\u001b[39mkwargs)]\n\u001b[0;32m   1689\u001b[0m \u001b[38;5;28;01mfor\u001b[39;00m line \u001b[38;5;129;01min\u001b[39;00m lines:\n\u001b[0;32m   1690\u001b[0m     \u001b[38;5;28mself\u001b[39m\u001b[38;5;241m.\u001b[39madd_line(line)\n",
      "File \u001b[1;32m~\\anaconda3\\envs\\tensorflow_env\\lib\\site-packages\\matplotlib\\axes\\_base.py:311\u001b[0m, in \u001b[0;36m_process_plot_var_args.__call__\u001b[1;34m(self, data, *args, **kwargs)\u001b[0m\n\u001b[0;32m    309\u001b[0m     this \u001b[38;5;241m+\u001b[39m\u001b[38;5;241m=\u001b[39m args[\u001b[38;5;241m0\u001b[39m],\n\u001b[0;32m    310\u001b[0m     args \u001b[38;5;241m=\u001b[39m args[\u001b[38;5;241m1\u001b[39m:]\n\u001b[1;32m--> 311\u001b[0m \u001b[38;5;28;01myield from\u001b[39;00m \u001b[38;5;28;43mself\u001b[39;49m\u001b[38;5;241;43m.\u001b[39;49m\u001b[43m_plot_args\u001b[49m\u001b[43m(\u001b[49m\n\u001b[0;32m    312\u001b[0m \u001b[43m    \u001b[49m\u001b[43mthis\u001b[49m\u001b[43m,\u001b[49m\u001b[43m \u001b[49m\u001b[43mkwargs\u001b[49m\u001b[43m,\u001b[49m\u001b[43m \u001b[49m\u001b[43mambiguous_fmt_datakey\u001b[49m\u001b[38;5;241;43m=\u001b[39;49m\u001b[43mambiguous_fmt_datakey\u001b[49m\u001b[43m)\u001b[49m\n",
      "File \u001b[1;32m~\\anaconda3\\envs\\tensorflow_env\\lib\\site-packages\\matplotlib\\axes\\_base.py:504\u001b[0m, in \u001b[0;36m_process_plot_var_args._plot_args\u001b[1;34m(self, tup, kwargs, return_kwargs, ambiguous_fmt_datakey)\u001b[0m\n\u001b[0;32m    501\u001b[0m     \u001b[38;5;28mself\u001b[39m\u001b[38;5;241m.\u001b[39maxes\u001b[38;5;241m.\u001b[39myaxis\u001b[38;5;241m.\u001b[39mupdate_units(y)\n\u001b[0;32m    503\u001b[0m \u001b[38;5;28;01mif\u001b[39;00m x\u001b[38;5;241m.\u001b[39mshape[\u001b[38;5;241m0\u001b[39m] \u001b[38;5;241m!=\u001b[39m y\u001b[38;5;241m.\u001b[39mshape[\u001b[38;5;241m0\u001b[39m]:\n\u001b[1;32m--> 504\u001b[0m     \u001b[38;5;28;01mraise\u001b[39;00m \u001b[38;5;167;01mValueError\u001b[39;00m(\u001b[38;5;124mf\u001b[39m\u001b[38;5;124m\"\u001b[39m\u001b[38;5;124mx and y must have same first dimension, but \u001b[39m\u001b[38;5;124m\"\u001b[39m\n\u001b[0;32m    505\u001b[0m                      \u001b[38;5;124mf\u001b[39m\u001b[38;5;124m\"\u001b[39m\u001b[38;5;124mhave shapes \u001b[39m\u001b[38;5;132;01m{\u001b[39;00mx\u001b[38;5;241m.\u001b[39mshape\u001b[38;5;132;01m}\u001b[39;00m\u001b[38;5;124m and \u001b[39m\u001b[38;5;132;01m{\u001b[39;00my\u001b[38;5;241m.\u001b[39mshape\u001b[38;5;132;01m}\u001b[39;00m\u001b[38;5;124m\"\u001b[39m)\n\u001b[0;32m    506\u001b[0m \u001b[38;5;28;01mif\u001b[39;00m x\u001b[38;5;241m.\u001b[39mndim \u001b[38;5;241m>\u001b[39m \u001b[38;5;241m2\u001b[39m \u001b[38;5;129;01mor\u001b[39;00m y\u001b[38;5;241m.\u001b[39mndim \u001b[38;5;241m>\u001b[39m \u001b[38;5;241m2\u001b[39m:\n\u001b[0;32m    507\u001b[0m     \u001b[38;5;28;01mraise\u001b[39;00m \u001b[38;5;167;01mValueError\u001b[39;00m(\u001b[38;5;124mf\u001b[39m\u001b[38;5;124m\"\u001b[39m\u001b[38;5;124mx and y can be no greater than 2D, but have \u001b[39m\u001b[38;5;124m\"\u001b[39m\n\u001b[0;32m    508\u001b[0m                      \u001b[38;5;124mf\u001b[39m\u001b[38;5;124m\"\u001b[39m\u001b[38;5;124mshapes \u001b[39m\u001b[38;5;132;01m{\u001b[39;00mx\u001b[38;5;241m.\u001b[39mshape\u001b[38;5;132;01m}\u001b[39;00m\u001b[38;5;124m and \u001b[39m\u001b[38;5;132;01m{\u001b[39;00my\u001b[38;5;241m.\u001b[39mshape\u001b[38;5;132;01m}\u001b[39;00m\u001b[38;5;124m\"\u001b[39m)\n",
      "\u001b[1;31mValueError\u001b[0m: x and y must have same first dimension, but have shapes (2,) and (5,)"
     ]
    },
    {
     "data": {
      "image/png": "[encoded data removed]",
      "text/plain": [
       "<Figure size 640x480 with 1 Axes>"
      ]
     },
     "metadata": {},
     "output_type": "display_data"
    }
   ],
   "source": [
    "\n",
    "# plot the training loss and accuracy\n",
    "N =EPOCHS\n",
    "plt.style.use(\"ggplot\")\n",
    "plt.figure()\n",
    "plt.plot(np.arange(0, N), H.history[\"loss\"], label=\"train_loss\")\n",
    "plt.plot(np.arange(0, N), H.history[\"val_loss\"], label=\"val_loss\")\n",
    "plt.plot(np.arange(0, N), H.history[\"accuracy\"], label=\"train_acc\")\n",
    "plt.plot(np.arange(0, N), H.history[\"val_accuracy\"], label=\"val_acc\")\n",
    "plt.title(\"Training Loss and Accuracy\")\n",
    "plt.xlabel(\"Epoch #\")\n",
    "plt.ylabel(\"Loss/Accuracy\")\n",
    "plt.legend(loc=\"lower left\")"
   ]
  },
  {
   "cell_type": "code",
   "execution_count": 52,
   "metadata": {
    "execution": {
     "iopub.execute_input": "2021-08-01T19:49:32.868635Z",
     "iopub.status.busy": "2021-08-01T19:49:32.868268Z",
     "iopub.status.idle": "2021-08-01T19:49:33.102398Z",
     "shell.execute_reply": "2021-08-01T19:49:33.101406Z",
     "shell.execute_reply.started": "2021-08-01T19:49:32.868602Z"
    },
    "scrolled": true
   },
   "outputs": [
    {
     "name": "stdout",
     "output_type": "stream",
     "text": [
      "[0 0 0 0 0 0 0 0 0 0 0 0 0 0 0 0 0 0 0 0 0 0 0 0 0 0 0 0 0 0 0 0 0 0 0 0 0\n",
      " 0 0 0 0 0 0 0 0 0 0 0]\n",
      "[0 0 0 0 0 0 0 0 0 0 0 0 0 0 0 0 0 0 0 0 0 0 0 0 0 0 0 0 0 0 0 0 0 0 0 0 0\n",
      " 0 0 0 0 0 0 0 0 0 0 0]\n"
     ]
    },
    {
     "data": {
      "image/png": "[encoded data removed]",
      "text/plain": [
       "<Figure size 500x500 with 1 Axes>"
      ]
     },
     "metadata": {},
     "output_type": "display_data"
    }
   ],
   "source": [
    "# cm = metrics.confusion_matrix(true_labels,prediction)\n",
    "# sns.heatmap(cm/np.sum(cm),\n",
    "#             annot=True,fmt='.2%',\n",
    "#             cmap='Blues')\n",
    "# plt.xlabel('Predicted Label',color='Red')\n",
    "# plt.ylabel('True Label',color='Red')\n",
    "conf_matrix = metrics.confusion_matrix(true_labels,prediction)\n",
    "fig, ax = plt.subplots(figsize=(5, 5))\n",
    "ax.matshow(conf_matrix, cmap=plt.cm.Oranges, alpha=0.3)\n",
    "print(true_labels)\n",
    "print(prediction)\n",
    "# for i in range(conf_matrix.shape[0]):\n",
    "#     for j in range(conf_matrix.shape[1]):\n",
    "#         ax.text(x=j, y=i,s=conf_matrix[i, j], va='center', ha='center',size='xx-large')\n",
    "# plt.xlabel('Predictions', fontsize=18)\n",
    "# plt.ylabel('Actuals', fontsize=18)\n",
    "# plt.title('Confusion Matrix', fontsize=18)\n",
    "# plt.show()\n",
    "# con=metrics.confusion_matrix(true_labels,prediction )\n",
    "# fig, ax = plot_confusion_matrix(con)\n",
    "# plt.show()"
   ]
  },
  {
   "cell_type": "code",
   "execution_count": 31,
   "metadata": {
    "execution": {
     "iopub.execute_input": "2021-08-01T19:49:41.402762Z",
     "iopub.status.busy": "2021-08-01T19:49:41.402404Z",
     "iopub.status.idle": "2021-08-01T19:49:41.638414Z",
     "shell.execute_reply": "2021-08-01T19:49:41.637387Z",
     "shell.execute_reply.started": "2021-08-01T19:49:41.402728Z"
    }
   },
   "outputs": [
    {
     "data": {
      "image/png": "[encoded data removed]",
      "text/plain": [
       "<Figure size 640x480 with 1 Axes>"
      ]
     },
     "metadata": {},
     "output_type": "display_data"
    }
   ],
   "source": [
    "# this is the prediction for the test data set \n",
    "\n",
    "from sklearn import metrics\n",
    "from mlxtend.plotting import plot_confusion_matrix\n",
    "import matplotlib.pyplot as plt\n",
    "\n",
    "con=metrics.confusion_matrix(true_labels,prediction )\n",
    "fig, ax = plot_confusion_matrix(conf_mat=con)\n",
    "plt.show()"
   ]
  },
  {
   "cell_type": "code",
   "execution_count": null,
   "metadata": {},
   "outputs": [],
   "source": []
  }
 ],
 "metadata": {
  "kernelspec": {
   "display_name": "Python 3 (ipykernel)",
   "language": "python",
   "name": "python3"
  },
  "language_info": {
   "codemirror_mode": {
    "name": "ipython",
    "version": 3
   },
   "file_extension": ".py",
   "mimetype": "text/x-python",
   "name": "python",
   "nbconvert_exporter": "python",
   "pygments_lexer": "ipython3",
   "version": "3.10.9"
  }
 },
 "nbformat": 4,
 "nbformat_minor": 4
}
