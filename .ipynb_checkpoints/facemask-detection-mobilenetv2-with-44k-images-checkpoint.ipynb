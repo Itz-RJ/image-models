{
 "cells": [
  {
   "cell_type": "code",
   "execution_count": 3,
   "metadata": {
    "execution": {
     "iopub.execute_input": "2021-08-01T18:57:21.737294Z",
     "iopub.status.busy": "2021-08-01T18:57:21.736914Z",
     "iopub.status.idle": "2021-08-01T18:57:22.014341Z",
     "shell.execute_reply": "2021-08-01T18:57:22.013536Z",
     "shell.execute_reply.started": "2021-08-01T18:57:21.737262Z"
    }
   },
   "outputs": [],
   "source": [
    "# import the necessary packages\n",
    "from tensorflow.keras.preprocessing.image import ImageDataGenerator\n",
    "from tensorflow.keras.applications import MobileNetV2\n",
    "from tensorflow.keras.layers import AveragePooling2D\n",
    "from tensorflow.keras.layers import Dropout\n",
    "from tensorflow.keras.layers import Flatten\n",
    "from tensorflow.keras.layers import Dense\n",
    "from tensorflow.keras.layers import Input\n",
    "from tensorflow.keras.models import Model\n",
    "from tensorflow.keras.optimizers import Adam\n",
    "from tensorflow.keras.optimizers import RMSprop\n",
    "from tensorflow.keras.applications.mobilenet_v2 import preprocess_input\n",
    "from tensorflow.keras.preprocessing.image import img_to_array\n",
    "from tensorflow.keras.preprocessing.image import load_img\n",
    "from tensorflow.keras.utils import to_categorical\n",
    "from sklearn.preprocessing import LabelBinarizer\n",
    "from sklearn.model_selection import train_test_split\n",
    "from sklearn.metrics import classification_report\n",
    "from imutils import paths\n",
    "import matplotlib.pyplot as plt\n",
    "import numpy as np\n",
    "import os\n",
    "from tensorflow.keras.utils import plot_model\n",
    "from keras import backend as K\n",
    "from keras.callbacks import ModelCheckpoint\n",
    "from tensorflow.keras.models import load_model\n",
    "import sklearn.metrics as metrics\n",
    "import seaborn as sns"
   ]
  },
  {
   "cell_type": "code",
   "execution_count": 2,
   "metadata": {
    "execution": {
     "iopub.execute_input": "2021-08-01T18:57:07.872334Z",
     "iopub.status.busy": "2021-08-01T18:57:07.872013Z",
     "iopub.status.idle": "2021-08-01T18:57:17.305724Z",
     "shell.execute_reply": "2021-08-01T18:57:17.304885Z",
     "shell.execute_reply.started": "2021-08-01T18:57:07.872305Z"
    }
   },
   "outputs": [
    {
     "name": "stdout",
     "output_type": "stream",
     "text": [
      "Collecting seaborn\n",
      "  Downloading seaborn-0.12.2-py3-none-any.whl (293 kB)\n",
      "     -------------------------------------- 293.3/293.3 kB 9.1 MB/s eta 0:00:00\n",
      "Requirement already satisfied: pandas>=0.25 in c:\\users\\rajat\\anaconda3\\envs\\tensorflow_env\\lib\\site-packages (from seaborn) (2.0.1)\n",
      "Requirement already satisfied: matplotlib!=3.6.1,>=3.1 in c:\\users\\rajat\\anaconda3\\envs\\tensorflow_env\\lib\\site-packages (from seaborn) (3.7.1)\n",
      "Requirement already satisfied: numpy!=1.24.0,>=1.17 in c:\\users\\rajat\\anaconda3\\envs\\tensorflow_env\\lib\\site-packages (from seaborn) (1.22.3)\n",
      "Requirement already satisfied: kiwisolver>=1.0.1 in c:\\users\\rajat\\anaconda3\\envs\\tensorflow_env\\lib\\site-packages (from matplotlib!=3.6.1,>=3.1->seaborn) (1.4.4)\n",
      "Requirement already satisfied: contourpy>=1.0.1 in c:\\users\\rajat\\anaconda3\\envs\\tensorflow_env\\lib\\site-packages (from matplotlib!=3.6.1,>=3.1->seaborn) (1.0.7)\n",
      "Requirement already satisfied: pyparsing>=2.3.1 in c:\\users\\rajat\\anaconda3\\envs\\tensorflow_env\\lib\\site-packages (from matplotlib!=3.6.1,>=3.1->seaborn) (3.0.9)\n",
      "Requirement already satisfied: fonttools>=4.22.0 in c:\\users\\rajat\\anaconda3\\envs\\tensorflow_env\\lib\\site-packages (from matplotlib!=3.6.1,>=3.1->seaborn) (4.39.4)\n",
      "Requirement already satisfied: pillow>=6.2.0 in c:\\users\\rajat\\anaconda3\\envs\\tensorflow_env\\lib\\site-packages (from matplotlib!=3.6.1,>=3.1->seaborn) (9.5.0)\n",
      "Requirement already satisfied: python-dateutil>=2.7 in c:\\users\\rajat\\anaconda3\\envs\\tensorflow_env\\lib\\site-packages (from matplotlib!=3.6.1,>=3.1->seaborn) (2.8.2)\n",
      "Requirement already satisfied: packaging>=20.0 in c:\\users\\rajat\\anaconda3\\envs\\tensorflow_env\\lib\\site-packages (from matplotlib!=3.6.1,>=3.1->seaborn) (22.0)\n",
      "Requirement already satisfied: cycler>=0.10 in c:\\users\\rajat\\anaconda3\\envs\\tensorflow_env\\lib\\site-packages (from matplotlib!=3.6.1,>=3.1->seaborn) (0.11.0)\n",
      "Requirement already satisfied: pytz>=2020.1 in c:\\users\\rajat\\anaconda3\\envs\\tensorflow_env\\lib\\site-packages (from pandas>=0.25->seaborn) (2022.7)\n",
      "Requirement already satisfied: tzdata>=2022.1 in c:\\users\\rajat\\anaconda3\\envs\\tensorflow_env\\lib\\site-packages (from pandas>=0.25->seaborn) (2023.3)\n",
      "Requirement already satisfied: six>=1.5 in c:\\users\\rajat\\anaconda3\\envs\\tensorflow_env\\lib\\site-packages (from python-dateutil>=2.7->matplotlib!=3.6.1,>=3.1->seaborn) (1.16.0)\n",
      "Installing collected packages: seaborn\n",
      "Successfully installed seaborn-0.12.2\n",
      "Note: you may need to restart the kernel to use updated packages.\n"
     ]
    }
   ],
   "source": [
    "pip install seaborn"
   ]
  },
  {
   "cell_type": "code",
   "execution_count": 5,
   "metadata": {
    "execution": {
     "iopub.execute_input": "2021-08-01T18:49:16.487203Z",
     "iopub.status.busy": "2021-08-01T18:49:16.48682Z",
     "iopub.status.idle": "2021-08-01T18:49:17.287836Z",
     "shell.execute_reply": "2021-08-01T18:49:17.287138Z",
     "shell.execute_reply.started": "2021-08-01T18:49:16.48717Z"
    }
   },
   "outputs": [
    {
     "data": {
      "text/plain": [
       "array([['0-with-mask.jpg', '1-with-mask.jpg', '10-with-mask.jpg', ...,\n",
       "        'augmented_image_97.jpg', 'augmented_image_98.jpg',\n",
       "        'augmented_image_99.jpg'],\n",
       "       ['1.0', '1.0', '1.0', ..., '0.0', '0.0', '0.0'],\n",
       "       ['0.0', '0.0', '0.0', ..., '1.0', '1.0', '1.0']], dtype='<U32')"
      ]
     },
     "execution_count": 5,
     "metadata": {},
     "output_type": "execute_result"
    }
   ],
   "source": [
    "#masked images\n",
    "images=os.listdir(\"dataset/1\")\n",
    "masked=np.ones( len(os.listdir(\"dataset/1\")))\n",
    "not_masked=np.zeros(len(os.listdir(\"dataset/1\")))\n",
    "\n",
    "\n",
    "images=np.append(images,os.listdir(\"dataset/0\"))\n",
    "masked=np.append(masked,np.zeros(len(os.listdir(\"dataset/0\"))))\n",
    "not_masked=np.append(not_masked,np.ones( len(os.listdir(\"dataset/0\"))))\n",
    "\n",
    "\n",
    "\n",
    "np.array([images,masked,not_masked])"
   ]
  },
  {
   "cell_type": "code",
   "execution_count": 6,
   "metadata": {
    "execution": {
     "iopub.execute_input": "2021-08-01T18:49:25.504275Z",
     "iopub.status.busy": "2021-08-01T18:49:25.503897Z",
     "iopub.status.idle": "2021-08-01T18:49:25.521217Z",
     "shell.execute_reply": "2021-08-01T18:49:25.520197Z",
     "shell.execute_reply.started": "2021-08-01T18:49:25.504245Z"
    }
   },
   "outputs": [],
   "source": [
    "import pandas as pd\n",
    "\n",
    "data={'image':images, 'masked':masked,'not_masked':not_masked}\n",
    "\n",
    "df = pd.DataFrame(data, columns = ['image', 'masked','not_masked'])"
   ]
  },
  {
   "cell_type": "code",
   "execution_count": 7,
   "metadata": {
    "execution": {
     "iopub.execute_input": "2021-08-01T18:50:22.214451Z",
     "iopub.status.busy": "2021-08-01T18:50:22.214126Z",
     "iopub.status.idle": "2021-08-01T18:50:22.275227Z",
     "shell.execute_reply": "2021-08-01T18:50:22.274315Z",
     "shell.execute_reply.started": "2021-08-01T18:50:22.214421Z"
    }
   },
   "outputs": [
    {
     "ename": "FileNotFoundError",
     "evalue": "[WinError 3] The system cannot find the path specified: '../input/facemask44k/Facemask-44k/dataset/with_mask'",
     "output_type": "error",
     "traceback": [
      "\u001b[1;31m---------------------------------------------------------------------------\u001b[0m",
      "\u001b[1;31mFileNotFoundError\u001b[0m                         Traceback (most recent call last)",
      "Cell \u001b[1;32mIn[7], line 1\u001b[0m\n\u001b[1;32m----> 1\u001b[0m df[\u001b[38;5;124m'\u001b[39m\u001b[38;5;124mimage\u001b[39m\u001b[38;5;124m'\u001b[39m]\u001b[38;5;241m.\u001b[39miloc[:\u001b[38;5;28mlen\u001b[39m(os\u001b[38;5;241m.\u001b[39mlistdir(\u001b[38;5;124m\"\u001b[39m\u001b[38;5;124m../input/facemask44k/Facemask-44k/dataset/with_mask\u001b[39m\u001b[38;5;124m\"\u001b[39m))]\u001b[38;5;241m=\u001b[39m\u001b[38;5;124m\"\u001b[39m\u001b[38;5;124m../input/facemask44k/Facemask-44k/dataset/with_mask/\u001b[39m\u001b[38;5;124m\"\u001b[39m\u001b[38;5;241m+\u001b[39m df[\u001b[38;5;124m'\u001b[39m\u001b[38;5;124mimage\u001b[39m\u001b[38;5;124m'\u001b[39m]\u001b[38;5;241m.\u001b[39miloc[:\u001b[38;5;28mlen\u001b[39m(\u001b[43mos\u001b[49m\u001b[38;5;241;43m.\u001b[39;49m\u001b[43mlistdir\u001b[49m\u001b[43m(\u001b[49m\u001b[38;5;124;43m\"\u001b[39;49m\u001b[38;5;124;43m../input/facemask44k/Facemask-44k/dataset/with_mask\u001b[39;49m\u001b[38;5;124;43m\"\u001b[39;49m\u001b[43m)\u001b[49m)]\n",
      "\u001b[1;31mFileNotFoundError\u001b[0m: [WinError 3] The system cannot find the path specified: '../input/facemask44k/Facemask-44k/dataset/with_mask'"
     ]
    }
   ],
   "source": [
    "df['image'].iloc[:len(os.listdir(\"../input/facemask44k/Facemask-44k/dataset/with_mask\"))]=\"../input/facemask44k/Facemask-44k/dataset/with_mask/\"+ df['image'].iloc[:len(os.listdir(\"../input/facemask44k/Facemask-44k/dataset/with_mask\"))]"
   ]
  },
  {
   "cell_type": "code",
   "execution_count": null,
   "metadata": {
    "execution": {
     "iopub.execute_input": "2021-08-01T18:51:33.064926Z",
     "iopub.status.busy": "2021-08-01T18:51:33.064601Z",
     "iopub.status.idle": "2021-08-01T18:51:33.097336Z",
     "shell.execute_reply": "2021-08-01T18:51:33.096415Z",
     "shell.execute_reply.started": "2021-08-01T18:51:33.064895Z"
    }
   },
   "outputs": [],
   "source": [
    "df['image'].iloc[len(os.listdir(\"../input/facemask44k/Facemask-44k/dataset/with_mask\")):]=\"../input/facemask44k/Facemask-44k/dataset/without_mask/\"+df['image'].iloc[len(os.listdir(\"../input/facemask44k/Facemask-44k/dataset/with_mask\")):]"
   ]
  },
  {
   "cell_type": "code",
   "execution_count": null,
   "metadata": {
    "execution": {
     "iopub.execute_input": "2021-08-01T18:51:38.682853Z",
     "iopub.status.busy": "2021-08-01T18:51:38.682524Z",
     "iopub.status.idle": "2021-08-01T18:51:38.733508Z",
     "shell.execute_reply": "2021-08-01T18:51:38.732746Z",
     "shell.execute_reply.started": "2021-08-01T18:51:38.682821Z"
    }
   },
   "outputs": [],
   "source": [
    "from keras.preprocessing.image import ImageDataGenerator,array_to_img,img_to_array,load_img,save_img"
   ]
  },
  {
   "cell_type": "code",
   "execution_count": null,
   "metadata": {
    "execution": {
     "iopub.execute_input": "2021-08-01T18:51:43.681771Z",
     "iopub.status.busy": "2021-08-01T18:51:43.681407Z",
     "iopub.status.idle": "2021-08-01T18:51:43.689196Z",
     "shell.execute_reply": "2021-08-01T18:51:43.688178Z",
     "shell.execute_reply.started": "2021-08-01T18:51:43.681728Z"
    }
   },
   "outputs": [],
   "source": [
    "df['image'].iloc[4]"
   ]
  },
  {
   "cell_type": "code",
   "execution_count": null,
   "metadata": {
    "execution": {
     "iopub.execute_input": "2021-08-01T18:51:45.729706Z",
     "iopub.status.busy": "2021-08-01T18:51:45.729332Z",
     "iopub.status.idle": "2021-08-01T18:51:45.74185Z",
     "shell.execute_reply": "2021-08-01T18:51:45.741054Z",
     "shell.execute_reply.started": "2021-08-01T18:51:45.72967Z"
    }
   },
   "outputs": [],
   "source": [
    "from sklearn.utils import shuffle\n",
    "df = shuffle(df)"
   ]
  },
  {
   "cell_type": "code",
   "execution_count": null,
   "metadata": {
    "execution": {
     "iopub.execute_input": "2021-08-01T18:51:50.40154Z",
     "iopub.status.busy": "2021-08-01T18:51:50.401186Z",
     "iopub.status.idle": "2021-08-01T18:51:50.420685Z",
     "shell.execute_reply": "2021-08-01T18:51:50.419818Z",
     "shell.execute_reply.started": "2021-08-01T18:51:50.401507Z"
    }
   },
   "outputs": [],
   "source": [
    "df.tail()"
   ]
  },
  {
   "cell_type": "code",
   "execution_count": null,
   "metadata": {
    "execution": {
     "iopub.execute_input": "2021-08-01T18:51:55.697312Z",
     "iopub.status.busy": "2021-08-01T18:51:55.696917Z",
     "iopub.status.idle": "2021-08-01T18:51:55.703149Z",
     "shell.execute_reply": "2021-08-01T18:51:55.70202Z",
     "shell.execute_reply.started": "2021-08-01T18:51:55.697281Z"
    }
   },
   "outputs": [],
   "source": [
    "len(df)"
   ]
  },
  {
   "cell_type": "code",
   "execution_count": null,
   "metadata": {
    "execution": {
     "iopub.execute_input": "2021-08-01T18:51:57.316101Z",
     "iopub.status.busy": "2021-08-01T18:51:57.315729Z",
     "iopub.status.idle": "2021-08-01T18:51:57.323774Z",
     "shell.execute_reply": "2021-08-01T18:51:57.32265Z",
     "shell.execute_reply.started": "2021-08-01T18:51:57.316061Z"
    }
   },
   "outputs": [],
   "source": [
    "df.shape"
   ]
  },
  {
   "cell_type": "code",
   "execution_count": null,
   "metadata": {
    "execution": {
     "iopub.execute_input": "2021-08-01T18:52:03.245869Z",
     "iopub.status.busy": "2021-08-01T18:52:03.245547Z",
     "iopub.status.idle": "2021-08-01T18:52:03.251001Z",
     "shell.execute_reply": "2021-08-01T18:52:03.24991Z",
     "shell.execute_reply.started": "2021-08-01T18:52:03.245837Z"
    }
   },
   "outputs": [],
   "source": [
    "train=df.iloc[:int(len(df) *0.70)]\n",
    "test_img=df.iloc[int(len(df) *0.70):int(len(df) *0.90)]\n",
    "val=df.iloc[int(len(df) *0.90):]"
   ]
  },
  {
   "cell_type": "code",
   "execution_count": null,
   "metadata": {
    "execution": {
     "iopub.execute_input": "2021-08-01T18:52:05.328873Z",
     "iopub.status.busy": "2021-08-01T18:52:05.328554Z",
     "iopub.status.idle": "2021-08-01T18:53:51.753583Z",
     "shell.execute_reply": "2021-08-01T18:53:51.752653Z",
     "shell.execute_reply.started": "2021-08-01T18:52:05.328842Z"
    }
   },
   "outputs": [],
   "source": [
    "import keras\n",
    "train_datagen = keras.preprocessing.image.ImageDataGenerator(rescale = 1./255,\n",
    "                                                             rotation_range=20,\n",
    "                                                             zoom_range=0.15,\n",
    "                                                             width_shift_range=0.2,\n",
    "                                                             height_shift_range=0.2,\n",
    "                                                             shear_range=0.15,\n",
    "                                                             horizontal_flip=True,\n",
    "                                                             fill_mode=\"nearest\")\n",
    "\n",
    "train_generator = train_datagen.flow_from_dataframe(train,\n",
    "                                                    x_col='image',\n",
    "                                                    y_col=['masked', 'not_masked'],\n",
    "                                                    target_size = (224,224), \n",
    "                                                    class_mode = 'raw',\n",
    "                                                    batch_size = 8\n",
    "                                                    \n",
    "                                                   )\n",
    "\n",
    "val_generator = train_datagen.flow_from_dataframe(val,\n",
    "                                                  x_col='image',\n",
    "                                                  y_col=['masked', 'not_masked'],\n",
    "                                                  target_size = (224,224),\n",
    "                                                  class_mode = 'raw',\n",
    "                                                  batch_size = 4\n",
    "                                                 \n",
    "                                                  )\n",
    "\n",
    "test_datagen = keras.preprocessing.image.ImageDataGenerator(rescale = 1./255)\n",
    "\n",
    "test_generator = test_datagen.flow_from_dataframe(test_img,\n",
    "                                                  x_col='image',\n",
    "                                                  y_col=['masked', 'not_masked'],\n",
    "                                                  target_size = (224,224),\n",
    "                                                  class_mode = 'raw',\n",
    "                                                  batch_size = 1,\n",
    "                                              \n",
    "                                                 )"
   ]
  },
  {
   "cell_type": "code",
   "execution_count": null,
   "metadata": {
    "execution": {
     "iopub.execute_input": "2021-08-01T18:55:04.097686Z",
     "iopub.status.busy": "2021-08-01T18:55:04.09721Z",
     "iopub.status.idle": "2021-08-01T18:55:04.102845Z",
     "shell.execute_reply": "2021-08-01T18:55:04.101942Z",
     "shell.execute_reply.started": "2021-08-01T18:55:04.097642Z"
    }
   },
   "outputs": [],
   "source": [
    "# initialize the initial learning rate, number of epochs to train for,\n",
    "# and batch size\n",
    "INIT_LR = 1e-4\n",
    "EPOCHS = 2\n",
    "BS = 32"
   ]
  },
  {
   "cell_type": "code",
   "execution_count": null,
   "metadata": {
    "execution": {
     "iopub.execute_input": "2021-08-01T18:57:55.937376Z",
     "iopub.status.busy": "2021-08-01T18:57:55.93705Z",
     "iopub.status.idle": "2021-08-01T18:57:59.717469Z",
     "shell.execute_reply": "2021-08-01T18:57:59.716729Z",
     "shell.execute_reply.started": "2021-08-01T18:57:55.937344Z"
    }
   },
   "outputs": [],
   "source": [
    "#load the MobileNetV2 network, ensuring the head FC layer sets are\n",
    "# left off\n",
    "baseModel = MobileNetV2(weights=\"imagenet\", include_top=False,\n",
    "\tinput_tensor=Input(shape=(224, 224, 3)))"
   ]
  },
  {
   "cell_type": "code",
   "execution_count": null,
   "metadata": {
    "execution": {
     "iopub.execute_input": "2021-08-01T18:58:03.015934Z",
     "iopub.status.busy": "2021-08-01T18:58:03.015558Z",
     "iopub.status.idle": "2021-08-01T18:58:03.047844Z",
     "shell.execute_reply": "2021-08-01T18:58:03.047066Z",
     "shell.execute_reply.started": "2021-08-01T18:58:03.015898Z"
    }
   },
   "outputs": [],
   "source": [
    "# construct the head of the model that will be placed on top of the\n",
    "# the base model\n",
    "headModel = baseModel.output\n",
    "headModel = AveragePooling2D(pool_size=(7, 7))(headModel)\n",
    "headModel = Flatten(name=\"flatten\")(headModel)\n",
    "headModel = Dense(128, activation=\"relu\")(headModel)\n",
    "headModel = Dropout(0.5)(headModel)\n",
    "headModel = Dense(2, activation=\"softmax\")(headModel)"
   ]
  },
  {
   "cell_type": "code",
   "execution_count": null,
   "metadata": {
    "execution": {
     "iopub.execute_input": "2021-08-01T18:58:32.642006Z",
     "iopub.status.busy": "2021-08-01T18:58:32.641621Z",
     "iopub.status.idle": "2021-08-01T18:58:32.662636Z",
     "shell.execute_reply": "2021-08-01T18:58:32.661863Z",
     "shell.execute_reply.started": "2021-08-01T18:58:32.64197Z"
    }
   },
   "outputs": [],
   "source": [
    "# place the head FC model on top of the base model (this will become\n",
    "# the actual model we will train)\n",
    "model = Model(inputs=baseModel.input, outputs=headModel)"
   ]
  },
  {
   "cell_type": "code",
   "execution_count": null,
   "metadata": {
    "execution": {
     "iopub.execute_input": "2021-08-01T18:58:42.930456Z",
     "iopub.status.busy": "2021-08-01T18:58:42.930128Z",
     "iopub.status.idle": "2021-08-01T18:58:42.938719Z",
     "shell.execute_reply": "2021-08-01T18:58:42.937783Z",
     "shell.execute_reply.started": "2021-08-01T18:58:42.930424Z"
    }
   },
   "outputs": [],
   "source": [
    "# loop over all layers in the base model and freeze them so they will\n",
    "# *not* be updated during the first training process\n",
    "for layer in baseModel.layers:\n",
    "\tlayer.trainable = False"
   ]
  },
  {
   "cell_type": "code",
   "execution_count": null,
   "metadata": {
    "execution": {
     "iopub.execute_input": "2021-08-01T18:59:03.232133Z",
     "iopub.status.busy": "2021-08-01T18:59:03.231772Z",
     "iopub.status.idle": "2021-08-01T18:59:03.252169Z",
     "shell.execute_reply": "2021-08-01T18:59:03.250408Z",
     "shell.execute_reply.started": "2021-08-01T18:59:03.2321Z"
    }
   },
   "outputs": [],
   "source": [
    "# compile our model\n",
    "print(\"[INFO] compiling model...\")\n",
    "opt = Adam(lr=INIT_LR, decay=INIT_LR / EPOCHS)\n",
    "model.compile(loss=\"binary_crossentropy\", optimizer=opt,\n",
    "\tmetrics=[\"accuracy\"])"
   ]
  },
  {
   "cell_type": "code",
   "execution_count": null,
   "metadata": {
    "execution": {
     "iopub.execute_input": "2021-08-01T19:00:11.931607Z",
     "iopub.status.busy": "2021-08-01T19:00:11.931272Z",
     "iopub.status.idle": "2021-08-01T19:45:57.224661Z",
     "shell.execute_reply": "2021-08-01T19:45:57.223776Z",
     "shell.execute_reply.started": "2021-08-01T19:00:11.931575Z"
    }
   },
   "outputs": [],
   "source": [
    "# train the head of the network\n",
    "print(\"[INFO] training head...\")\n",
    "H = model.fit(\n",
    "\t            train_generator,epochs=5,\n",
    "              steps_per_epoch=train_generator.n// train_generator.batch_size\n",
    "              ,validation_data=val_generator,\n",
    "              validation_steps=val_generator.n // val_generator.batch_size)"
   ]
  },
  {
   "cell_type": "code",
   "execution_count": null,
   "metadata": {
    "execution": {
     "iopub.execute_input": "2021-08-01T19:46:13.717156Z",
     "iopub.status.busy": "2021-08-01T19:46:13.716783Z",
     "iopub.status.idle": "2021-08-01T19:48:04.628095Z",
     "shell.execute_reply": "2021-08-01T19:48:04.62612Z",
     "shell.execute_reply.started": "2021-08-01T19:46:13.717124Z"
    }
   },
   "outputs": [],
   "source": [
    "y=np.concatenate([test_generator.next()[1] for i in range(test_generator.n)])\n",
    "true_labels=np.argmax(y, axis=-1)\n",
    "prediction= model.predict(test_generator, verbose=2)\n",
    "prediction=np.argmax(prediction, axis=-1)\n",
    "print(classification_report(true_labels,prediction))"
   ]
  },
  {
   "cell_type": "code",
   "execution_count": null,
   "metadata": {
    "execution": {
     "iopub.execute_input": "2021-08-01T19:48:54.282669Z",
     "iopub.status.busy": "2021-08-01T19:48:54.2823Z",
     "iopub.status.idle": "2021-08-01T19:48:54.678947Z",
     "shell.execute_reply": "2021-08-01T19:48:54.678018Z",
     "shell.execute_reply.started": "2021-08-01T19:48:54.282637Z"
    }
   },
   "outputs": [],
   "source": [
    "# serialize the model to disk\n",
    "print(\"[INFO] saving mask detector model...\")\n",
    "\n",
    "model.save(\"mask_detector.model_44k_train_mobileNetv2.h5\")"
   ]
  },
  {
   "cell_type": "code",
   "execution_count": null,
   "metadata": {
    "execution": {
     "iopub.execute_input": "2021-08-01T19:49:00.598531Z",
     "iopub.status.busy": "2021-08-01T19:49:00.598208Z",
     "iopub.status.idle": "2021-08-01T19:49:00.752147Z",
     "shell.execute_reply": "2021-08-01T19:49:00.750357Z",
     "shell.execute_reply.started": "2021-08-01T19:49:00.5985Z"
    }
   },
   "outputs": [],
   "source": [
    "\n",
    "# plot the training loss and accuracy\n",
    "N =EPOCHS\n",
    "plt.style.use(\"ggplot\")\n",
    "plt.figure()\n",
    "plt.plot(np.arange(0, N), H.history[\"loss\"], label=\"train_loss\")\n",
    "plt.plot(np.arange(0, N), H.history[\"val_loss\"], label=\"val_loss\")\n",
    "plt.plot(np.arange(0, N), H.history[\"accuracy\"], label=\"train_acc\")\n",
    "plt.plot(np.arange(0, N), H.history[\"val_accuracy\"], label=\"val_acc\")\n",
    "plt.title(\"Training Loss and Accuracy\")\n",
    "plt.xlabel(\"Epoch #\")\n",
    "plt.ylabel(\"Loss/Accuracy\")\n",
    "plt.legend(loc=\"lower left\")"
   ]
  },
  {
   "cell_type": "code",
   "execution_count": null,
   "metadata": {
    "execution": {
     "iopub.execute_input": "2021-08-01T19:49:32.868635Z",
     "iopub.status.busy": "2021-08-01T19:49:32.868268Z",
     "iopub.status.idle": "2021-08-01T19:49:33.102398Z",
     "shell.execute_reply": "2021-08-01T19:49:33.101406Z",
     "shell.execute_reply.started": "2021-08-01T19:49:32.868602Z"
    }
   },
   "outputs": [],
   "source": [
    "cm = metrics.confusion_matrix(true_labels,prediction)\n",
    "sns.heatmap(cm/np.sum(cm),\n",
    "            annot=True,fmt='.2%',\n",
    "            cmap='Blues')\n",
    "plt.xlabel('Predicted Label',color='Red')\n",
    "plt.ylabel('True Label',color='Red')"
   ]
  },
  {
   "cell_type": "code",
   "execution_count": null,
   "metadata": {
    "execution": {
     "iopub.execute_input": "2021-08-01T19:49:41.402762Z",
     "iopub.status.busy": "2021-08-01T19:49:41.402404Z",
     "iopub.status.idle": "2021-08-01T19:49:41.638414Z",
     "shell.execute_reply": "2021-08-01T19:49:41.637387Z",
     "shell.execute_reply.started": "2021-08-01T19:49:41.402728Z"
    }
   },
   "outputs": [],
   "source": [
    "# this is the prediction for the test data set \n",
    "\n",
    "from sklearn import metrics\n",
    "from mlxtend.plotting import plot_confusion_matrix\n",
    "import matplotlib.pyplot as plt\n",
    "\n",
    "con=metrics.confusion_matrix(true_labels,prediction )\n",
    "fig, ax = plot_confusion_matrix(conf_mat=con)\n",
    "plt.show()"
   ]
  },
  {
   "cell_type": "code",
   "execution_count": null,
   "metadata": {},
   "outputs": [],
   "source": []
  }
 ],
 "metadata": {
  "kernelspec": {
   "display_name": "Python 3 (ipykernel)",
   "language": "python",
   "name": "python3"
  },
  "language_info": {
   "codemirror_mode": {
    "name": "ipython",
    "version": 3
   },
   "file_extension": ".py",
   "mimetype": "text/x-python",
   "name": "python",
   "nbconvert_exporter": "python",
   "pygments_lexer": "ipython3",
   "version": "3.10.9"
  }
 },
 "nbformat": 4,
 "nbformat_minor": 4
}
